{
 "cells": [
  {
   "cell_type": "markdown",
   "metadata": {},
   "source": [
    "# Regression: underfitting and overfitting\n",
    "\n",
    "We will look at a simple example of fitting a polynomial function to a set of data points.  A polynomial is defined by its degree $n$ and can be written as: $y = \\sum_{k=0}^n a_k x^k$.\n",
    "\n",
    "The simplest polynomial, with a degree of $n=1$, is the linear function: $y = a_1x + a_0$. For example a third degree ($n=3$) polynomial would have the form $y = a_3x^3 + a_2x^2 + a_1x + a_0$.\n"
   ]
  },
  {
   "cell_type": "markdown",
   "metadata": {},
   "source": [
    "But first, let's start with the neccessary Python imports.  Here we will be using the popular [scikit-learn](https://scikit-learn.org/stable/index.html) framework for machine learning."
   ]
  },
  {
   "cell_type": "code",
   "execution_count": null,
   "metadata": {},
   "outputs": [],
   "source": [
    "import numpy as np\n",
    "import matplotlib\n",
    "import matplotlib.pyplot as plt\n",
    "\n",
    "from sklearn.preprocessing import PolynomialFeatures\n",
    "from sklearn.linear_model import LinearRegression, Ridge\n",
    "from sklearn.pipeline import make_pipeline\n",
    "\n",
    "%matplotlib inline"
   ]
  },
  {
   "cell_type": "markdown",
   "metadata": {},
   "source": [
    "## Generate data points\n",
    "\n",
    "First, we will create a set of points on a sine curve.  We will a bit of randomness, just to make more fun."
   ]
  },
  {
   "cell_type": "code",
   "execution_count": null,
   "metadata": {},
   "outputs": [],
   "source": [
    "np.random.seed(42)\n",
    "N=20\n",
    "\n",
    "x = np.sort(np.random.rand(N))\n",
    "y = np.sin(1.2 * x * np.pi) + 0.1 * np.random.randn(len(x))"
   ]
  },
  {
   "cell_type": "markdown",
   "metadata": {},
   "source": [
    "We create a helper function to plot the points."
   ]
  },
  {
   "cell_type": "code",
   "execution_count": null,
   "metadata": {},
   "outputs": [],
   "source": [
    "def plot_curve(x, y):\n",
    "    plt.plot(x, y, 'ko')\n",
    "    plt.ylim(-1, 1.5)\n",
    "    plt.xlim(0, 1)\n",
    "    plt.xlabel('x')\n",
    "    plt.ylabel('y')\n",
    "    plt.show()"
   ]
  },
  {
   "cell_type": "code",
   "execution_count": null,
   "metadata": {},
   "outputs": [],
   "source": [
    "plot_curve(x, y)"
   ]
  },
  {
   "cell_type": "markdown",
   "metadata": {},
   "source": [
    "## Fitting a polynomial model\n",
    "\n",
    "First, we will create another helper function that takes a given model and generates its predictions for the whole range of $x$ values, drawn on top of the data points."
   ]
  },
  {
   "cell_type": "code",
   "execution_count": null,
   "metadata": {},
   "outputs": [],
   "source": [
    "def plot_curve_and_model(x, y, model):\n",
    "    model.fit(x.reshape(-1, 1), y)\n",
    "    x_plot = np.linspace(0, 1, 100)\n",
    "    y_pred = model.predict(x_plot.reshape(-1, 1))\n",
    "    \n",
    "    plt.plot(x_plot, y_pred)\n",
    "    plot_curve(x, y)\n"
   ]
  },
  {
   "cell_type": "markdown",
   "metadata": {},
   "source": [
    "### Underfitting\n",
    "\n",
    "First, we'll start with the simples linear model, where the degree is 1.  What can you say about the result?"
   ]
  },
  {
   "cell_type": "code",
   "execution_count": null,
   "metadata": {},
   "outputs": [],
   "source": [
    "model = make_pipeline(PolynomialFeatures(degree=1), LinearRegression())\n",
    "\n",
    "plot_curve_and_model(x, y, model)"
   ]
  },
  {
   "cell_type": "markdown",
   "metadata": {},
   "source": [
    "### Overfitting\n",
    "\n",
    "Next, we will try with a very complex 13-degree model. What happens?"
   ]
  },
  {
   "cell_type": "code",
   "execution_count": null,
   "metadata": {},
   "outputs": [],
   "source": [
    "model = make_pipeline(PolynomialFeatures(degree=13), LinearRegression())\n",
    "\n",
    "plot_curve_and_model(x, y, model)"
   ]
  },
  {
   "cell_type": "markdown",
   "metadata": {},
   "source": [
    "### Balanced model\n",
    "\n",
    "Try to find a balanced model.  You can try:\n",
    "\n",
    "- finding the right degree for the model\n",
    "- using regularization such as in [Ridge regression](https://scikit-learn.org/stable/modules/generated/sklearn.linear_model.Ridge.html)"
   ]
  },
  {
   "cell_type": "code",
   "execution_count": null,
   "metadata": {},
   "outputs": [],
   "source": [
    "model = make_pipeline(PolynomialFeatures(degree=5), LinearRegression())\n",
    "#model = make_pipeline(PolynomialFeatures(degree=13), Ridge(alpha=0.001))\n",
    "\n",
    "plot_curve_and_model(x, y, model)"
   ]
  }
 ],
 "metadata": {
  "kernelspec": {
   "display_name": "Python 3",
   "language": "python",
   "name": "python3"
  },
  "language_info": {
   "codemirror_mode": {
    "name": "ipython",
    "version": 3
   },
   "file_extension": ".py",
   "mimetype": "text/x-python",
   "name": "python",
   "nbconvert_exporter": "python",
   "pygments_lexer": "ipython3",
   "version": "3.7.4"
  }
 },
 "nbformat": 4,
 "nbformat_minor": 4
}
